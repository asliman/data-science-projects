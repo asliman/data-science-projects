{
 "cells": [
  {
   "cell_type": "markdown",
   "metadata": {},
   "source": [
    "* total dollars received\n",
    "* total number of contributions received \n",
    "* donation amount in a given percentile\n",
    "\n",
    "the entire contents of `repeat_donors.txt` would be:\n",
    "\n",
    "    C00384516|02895|2018|333|333|1\n",
    "    C00384516|02895|2018|333|717|2"
   ]
  },
  {
   "cell_type": "markdown",
   "metadata": {},
   "source": [
    "notes:\n",
    "- write into a class\n"
   ]
  },
  {
   "cell_type": "code",
   "execution_count": 10,
   "metadata": {
    "collapsed": true
   },
   "outputs": [],
   "source": [
    "import numpy as np\n",
    "import pandas as pd"
   ]
  },
  {
   "cell_type": "code",
   "execution_count": 57,
   "metadata": {},
   "outputs": [
    {
     "data": {
      "text/plain": [
       "0.3"
      ]
     },
     "execution_count": 57,
     "metadata": {},
     "output_type": "execute_result"
    }
   ],
   "source": [
    "# read percentile.txt\n",
    "fileHandle = open('percentile.txt', 'r')\n",
    "percent = fileHandle.read()\n",
    "fileHandle.close()\n",
    "float(percent[:2])/100"
   ]
  },
  {
   "cell_type": "code",
   "execution_count": 59,
   "metadata": {},
   "outputs": [
    {
     "name": "stdout",
     "output_type": "stream",
     "text": [
      "removed 1 line\n"
     ]
    }
   ],
   "source": [
    "# read itcont.txt\n",
    "fileHandle = open('itcont.txt', 'r')\n",
    "# prepare fields\n",
    "a1=[];a2=[];a3=[];a4=[];a5=[];a6=[]\n",
    "i=0\n",
    "# read fields\n",
    "for line in fileHandle:\n",
    "    fields = line.split('|')\n",
    "    i=i+1\n",
    "    if (len(fields[15])>0): #() exclude other id\n",
    "        print('removed '+str(i)+' line')\n",
    "    else:\n",
    "        a1.append(fields[0])\n",
    "        a2.append(fields[7])\n",
    "        a3.append(fields[10][:5])\n",
    "        a4.append(fields[13])\n",
    "        a5.append(fields[14])\n",
    "\n",
    "fileHandle.close()"
   ]
  },
  {
   "cell_type": "code",
   "execution_count": 13,
   "metadata": {},
   "outputs": [
    {
     "data": {
      "text/html": [
       "<div>\n",
       "<style>\n",
       "    .dataframe thead tr:only-child th {\n",
       "        text-align: right;\n",
       "    }\n",
       "\n",
       "    .dataframe thead th {\n",
       "        text-align: left;\n",
       "    }\n",
       "\n",
       "    .dataframe tbody tr th {\n",
       "        vertical-align: top;\n",
       "    }\n",
       "</style>\n",
       "<table border=\"1\" class=\"dataframe\">\n",
       "  <thead>\n",
       "    <tr style=\"text-align: right;\">\n",
       "      <th></th>\n",
       "      <th>CMTE_ID</th>\n",
       "      <th>NAME</th>\n",
       "      <th>TRANSACTION_AMT</th>\n",
       "      <th>TRANSACTION_DT</th>\n",
       "      <th>ZIP_CODE</th>\n",
       "    </tr>\n",
       "  </thead>\n",
       "  <tbody>\n",
       "    <tr>\n",
       "      <th>0</th>\n",
       "      <td>C00177436</td>\n",
       "      <td>DEEHAN, WILLIAM N</td>\n",
       "      <td>384</td>\n",
       "      <td>01312017</td>\n",
       "      <td>30004</td>\n",
       "    </tr>\n",
       "    <tr>\n",
       "      <th>1</th>\n",
       "      <td>C00384818</td>\n",
       "      <td>ABBOTT, JOSEPH</td>\n",
       "      <td>250</td>\n",
       "      <td>01122017</td>\n",
       "      <td>02895</td>\n",
       "    </tr>\n",
       "    <tr>\n",
       "      <th>2</th>\n",
       "      <td>C00384516</td>\n",
       "      <td>SABOURIN, JAMES</td>\n",
       "      <td>230</td>\n",
       "      <td>01312017</td>\n",
       "      <td>02895</td>\n",
       "    </tr>\n",
       "    <tr>\n",
       "      <th>3</th>\n",
       "      <td>C00177436</td>\n",
       "      <td>JEROME, CHRISTOPHER</td>\n",
       "      <td>384</td>\n",
       "      <td>10312017</td>\n",
       "      <td>30750</td>\n",
       "    </tr>\n",
       "    <tr>\n",
       "      <th>4</th>\n",
       "      <td>C00384516</td>\n",
       "      <td>ABBOTT, JOSEPH</td>\n",
       "      <td>333</td>\n",
       "      <td>01122018</td>\n",
       "      <td>02895</td>\n",
       "    </tr>\n",
       "    <tr>\n",
       "      <th>5</th>\n",
       "      <td>C00384516</td>\n",
       "      <td>SABOURIN, JAMES</td>\n",
       "      <td>384</td>\n",
       "      <td>01312018</td>\n",
       "      <td>02895</td>\n",
       "    </tr>\n",
       "  </tbody>\n",
       "</table>\n",
       "</div>"
      ],
      "text/plain": [
       "     CMTE_ID                 NAME TRANSACTION_AMT TRANSACTION_DT ZIP_CODE\n",
       "0  C00177436    DEEHAN, WILLIAM N             384       01312017    30004\n",
       "1  C00384818       ABBOTT, JOSEPH             250       01122017    02895\n",
       "2  C00384516      SABOURIN, JAMES             230       01312017    02895\n",
       "3  C00177436  JEROME, CHRISTOPHER             384       10312017    30750\n",
       "4  C00384516       ABBOTT, JOSEPH             333       01122018    02895\n",
       "5  C00384516      SABOURIN, JAMES             384       01312018    02895"
      ]
     },
     "execution_count": 13,
     "metadata": {},
     "output_type": "execute_result"
    }
   ],
   "source": [
    "# tidy up fields.\n",
    "d = {'CMTE_ID' : a1,'NAME' : a2,'ZIP_CODE':a3,'TRANSACTION_DT':a4,'TRANSACTION_AMT':a5}\n",
    "data1 = pd.DataFrame(d)\n",
    "data1"
   ]
  },
  {
   "cell_type": "code",
   "execution_count": 72,
   "metadata": {},
   "outputs": [
    {
     "data": {
      "text/plain": [
       "(['ABBOTT, JOSEPH', 'SABOURIN, JAMES'], [1, 2])"
      ]
     },
     "execution_count": 72,
     "metadata": {},
     "output_type": "execute_result"
    }
   ],
   "source": [
    "# find repeated elements\n",
    "seen = set()\n",
    "uniq = [] \n",
    "dup = []\n",
    "dupindex = []\n",
    "for x in a2:\n",
    "    if x not in seen:\n",
    "        uniq.append(x)\n",
    "        seen.add(x)\n",
    "    else: \n",
    "        dup.append(x)\n",
    "        dupindex.append(a2.index(x))\n",
    "        \n",
    "dup,dupindex"
   ]
  },
  {
   "cell_type": "code",
   "execution_count": 50,
   "metadata": {},
   "outputs": [],
   "source": [
    "# write to file\n",
    "file_write = open('testfile.txt','w') \n",
    "i = 5\n",
    "file_write.write(a1[i]+'|'+a3[i]+'|'+a4[i][-4:]+'|'+a5[i]+'|'\n",
    "str(i+1)) \n",
    "file_write.close() \n"
   ]
  },
  {
   "cell_type": "markdown",
   "metadata": {},
   "source": [
    "## test"
   ]
  },
  {
   "cell_type": "code",
   "execution_count": 73,
   "metadata": {},
   "outputs": [
    {
     "data": {
      "text/plain": [
       "{1, 2, 3, 5, 6}"
      ]
     },
     "execution_count": 73,
     "metadata": {},
     "output_type": "execute_result"
    }
   ],
   "source": [
    "a = [1,2,3,2,1,5,6,5,5,5]\n",
    "set(a)"
   ]
  },
  {
   "cell_type": "code",
   "execution_count": 15,
   "metadata": {},
   "outputs": [
    {
     "data": {
      "text/plain": [
       "''"
      ]
     },
     "execution_count": 15,
     "metadata": {},
     "output_type": "execute_result"
    }
   ],
   "source": [
    "a6[2]"
   ]
  },
  {
   "cell_type": "code",
   "execution_count": 16,
   "metadata": {},
   "outputs": [
    {
     "data": {
      "text/plain": [
       "['', '', '', '', '', '']"
      ]
     },
     "execution_count": 16,
     "metadata": {},
     "output_type": "execute_result"
    }
   ],
   "source": [
    "a6"
   ]
  },
  {
   "cell_type": "code",
   "execution_count": 17,
   "metadata": {},
   "outputs": [
    {
     "data": {
      "text/plain": [
       "['', '', '', '', '', '']"
      ]
     },
     "execution_count": 17,
     "metadata": {},
     "output_type": "execute_result"
    }
   ],
   "source": [
    "a6"
   ]
  },
  {
   "cell_type": "code",
   "execution_count": 18,
   "metadata": {},
   "outputs": [
    {
     "data": {
      "text/plain": [
       "0"
      ]
     },
     "execution_count": 18,
     "metadata": {},
     "output_type": "execute_result"
    }
   ],
   "source": [
    "len(a6[0])"
   ]
  },
  {
   "cell_type": "code",
   "execution_count": 19,
   "metadata": {
    "collapsed": true
   },
   "outputs": [],
   "source": [
    "ddd = [1,2,3]"
   ]
  },
  {
   "cell_type": "code",
   "execution_count": 20,
   "metadata": {},
   "outputs": [
    {
     "ename": "SyntaxError",
     "evalue": "invalid character in identifier (<ipython-input-20-8ac0adea9f02>, line 1)",
     "output_type": "error",
     "traceback": [
      "\u001b[0;36m  File \u001b[0;32m\"<ipython-input-20-8ac0adea9f02>\"\u001b[0;36m, line \u001b[0;32m1\u001b[0m\n\u001b[0;31m    file_write = open(“testfile.txt”,”w”)\u001b[0m\n\u001b[0m                              ^\u001b[0m\n\u001b[0;31mSyntaxError\u001b[0m\u001b[0;31m:\u001b[0m invalid character in identifier\n"
     ]
    }
   ],
   "source": []
  },
  {
   "cell_type": "code",
   "execution_count": null,
   "metadata": {
    "collapsed": true
   },
   "outputs": [],
   "source": []
  }
 ],
 "metadata": {
  "kernelspec": {
   "display_name": "Python 3",
   "language": "python3",
   "name": "python3"
  },
  "language_info": {
   "codemirror_mode": {
    "name": "ipython",
    "version": 3
   },
   "file_extension": ".py",
   "mimetype": "text/x-python",
   "name": "python",
   "nbconvert_exporter": "python",
   "pygments_lexer": "ipython3",
   "version": "3.6.1"
  }
 },
 "nbformat": 4,
 "nbformat_minor": 2
}
